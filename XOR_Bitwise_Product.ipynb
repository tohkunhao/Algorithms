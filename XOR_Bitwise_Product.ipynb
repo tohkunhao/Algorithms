{
  "nbformat": 4,
  "nbformat_minor": 0,
  "metadata": {
    "colab": {
      "name": "XOR Bitwise Product.ipynb",
      "provenance": [],
      "authorship_tag": "ABX9TyNA/yslZj/c1kR0hkq/YiVn",
      "include_colab_link": true
    },
    "kernelspec": {
      "name": "python3",
      "display_name": "Python 3"
    },
    "language_info": {
      "name": "python"
    }
  },
  "cells": [
    {
      "cell_type": "markdown",
      "metadata": {
        "id": "view-in-github",
        "colab_type": "text"
      },
      "source": [
        "<a href=\"https://colab.research.google.com/github/tohkunhao/Algorithms/blob/main/XOR_Bitwise_Product.ipynb\" target=\"_parent\"><img src=\"https://colab.research.google.com/assets/colab-badge.svg\" alt=\"Open In Colab\"/></a>"
      ]
    },
    {
      "cell_type": "markdown",
      "metadata": {
        "id": "xOedt8EuSps9"
      },
      "source": [
        "Got asked this question for a coding test but I didn't manage to finish it on time. Was curious about solving it anyway so I did this after the test was over. I am not a comp sci major so I have no idea what the model answer algorithm is but this algorithm that I thought up does pretty well with large numbers. For small numbers it is slower than using just a for loop.\n",
        "\n",
        "コーディングテストでbitwise XOR productの実装に聞かれて、あいにく1時間以内に完成できませんでした。気になるので、テスト後でもやってみました。大の専攻はコンピューターサイエンスではないので、正解のアルゴリズムがわかりません。ただし、今回思いついたアルゴリズムは大きい整数では実行時間が悪くないです。小さい整数の場合、普通のforループに勝てません。"
      ]
    },
    {
      "cell_type": "code",
      "metadata": {
        "id": "z84KOw7ebx8E"
      },
      "source": [
        "import time\n",
        "\n",
        "def bitxorproduct(M,N):\n",
        "  Mbin_rev=str(bin(M))[2:][::-1]\n",
        "  Nbin_rev=str(bin(N))[2:][::-1]\n",
        "  num_zeros_add = len(Nbin_rev)-len(Mbin_rev)\n",
        "  Mbin_rev=Mbin_rev+'0'*num_zeros_add\n",
        "  num_items_between = N-M+1\n",
        "  dummy_ans = [0 for i in range(len(Mbin_rev))]\n",
        "  for i in range(len(Mbin_rev)):\n",
        "    bitvalue = Mbin_rev[i]\n",
        "    position=2**(i+int(bitvalue))-str2int(Mbin_rev[:i+1])\n",
        "    if bitvalue =='1':\n",
        "      dummy_ans[i]=(position + countremainder1s(num_items_between,position,i,False))%2\n",
        "    else:\n",
        "      dummy_ans[i]=(countremainder1s(num_items_between,position,i))%2\n",
        "  return str2int(dummy_ans)\n",
        "\n",
        "\n",
        "def str2int(binstr):\n",
        "  total = 0\n",
        "  for i in range(len(binstr)):\n",
        "    total += int(binstr[i])*2**i\n",
        "  return total\n",
        "\n",
        "def countremainder1s(num_items, position,index,zero=True):\n",
        "  if zero:\n",
        "    chooser=1\n",
        "  else:\n",
        "    chooser=0\n",
        "  num_bits_per_grp = 2**index\n",
        "  leftover=num_items-position\n",
        "  grp_remainder = leftover%(num_bits_per_grp)\n",
        "  num_grps=int(leftover/(num_bits_per_grp))\n",
        "  isOdd =num_grps%2\n",
        "  if isOdd ==0:\n",
        "    return num_grps*num_bits_per_grp+(isOdd^chooser)*grp_remainder\n",
        "  else:\n",
        "    return ((num_grps-1)/2+chooser)*num_bits_per_grp+(isOdd^chooser)*grp_remainder\n",
        "\n",
        "def forloopbitxorproduct(M,N):\n",
        "  start=M\n",
        "  for i in range(M+1,N+1):\n",
        "    start^=i\n",
        "  return start"
      ],
      "execution_count": 100,
      "outputs": []
    },
    {
      "cell_type": "code",
      "metadata": {
        "colab": {
          "base_uri": "https://localhost:8080/"
        },
        "id": "zQLnzmtPNLD8",
        "outputId": "2d2a8ef1-876f-426d-b73b-7fe8b63d462d"
      },
      "source": [
        "#Evaluation\n",
        "for i in range(2,100000):\n",
        "  t0own=time.time()\n",
        "  a=bitxorproduct(1,i)\n",
        "  t1own=time.time()\n",
        "  town=t1own-t0own\n",
        "\n",
        "  t0c=time.time()\n",
        "  c=forloopbitxorproduct(1,i)\n",
        "  t1c=time.time()\n",
        "  tc=t1c-t0c\n",
        "  if tc>town:\n",
        "    print(f'breakeven point when difference between numbers is {i}')\n",
        "    break\n",
        "\n",
        "\n",
        "#print(f'own algo: {a}, time: {town}')\n",
        "#print(f'loop: {c}, time:{tc}')"
      ],
      "execution_count": 109,
      "outputs": [
        {
          "output_type": "stream",
          "name": "stdout",
          "text": [
            "breakeven point when difference between numbers is 322\n"
          ]
        }
      ]
    }
  ]
}